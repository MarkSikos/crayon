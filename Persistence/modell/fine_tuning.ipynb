{
  "cells": [
    {
      "cell_type": "markdown",
      "metadata": {
        "id": "TXmss3OXSGmB"
      },
      "source": [
        "# Keras OCR modell finomhangolása"
      ]
    },
    {
      "cell_type": "code",
      "execution_count": 2,
      "metadata": {
        "colab": {
          "base_uri": "https://localhost:8080/"
        },
        "id": "h8Tv0Au7ScGe",
        "outputId": "e89ce932-5e3d-41e7-9683-47ca4a7e322c"
      },
      "outputs": [
        {
          "name": "stdout",
          "output_type": "stream",
          "text": [
            "Collecting keras-ocr\n",
            "  Cloning https://github.com/faustomorales/keras-ocr.git to /tmp/pip-install-ftnp7yji/keras-ocr_2e33403c8ce44f8b9e82325fd1b45f19\n",
            "  Running command git clone --filter=blob:none --quiet https://github.com/faustomorales/keras-ocr.git /tmp/pip-install-ftnp7yji/keras-ocr_2e33403c8ce44f8b9e82325fd1b45f19\n",
            "  Resolved https://github.com/faustomorales/keras-ocr.git to commit e8d34a46f07d50158e1d86d6c617e99bfe99e2f8\n",
            "  Installing build dependencies ... \u001b[?25l\u001b[?25hdone\n",
            "  Getting requirements to build wheel ... \u001b[?25l\u001b[?25hdone\n",
            "  Preparing metadata (pyproject.toml) ... \u001b[?25l\u001b[?25hdone\n",
            "Requirement already satisfied: editdistance in /usr/local/lib/python3.10/dist-packages (from keras-ocr) (0.6.2)\n",
            "Collecting efficientnet==1.0.0 (from keras-ocr)\n",
            "  Downloading efficientnet-1.0.0-py3-none-any.whl (17 kB)\n",
            "Collecting essential_generators (from keras-ocr)\n",
            "  Downloading essential_generators-1.0-py3-none-any.whl (9.5 MB)\n",
            "\u001b[2K     \u001b[90m━━━━━━━━━━━━━━━━━━━━━━━━━━━━━━━━━━━━━━━━\u001b[0m \u001b[32m9.5/9.5 MB\u001b[0m \u001b[31m24.1 MB/s\u001b[0m eta \u001b[36m0:00:00\u001b[0m\n",
            "\u001b[?25hRequirement already satisfied: fonttools in /usr/local/lib/python3.10/dist-packages (from keras-ocr) (4.51.0)\n",
            "Requirement already satisfied: imgaug in /usr/local/lib/python3.10/dist-packages (from keras-ocr) (0.4.0)\n",
            "Collecting pyclipper (from keras-ocr)\n",
            "  Downloading pyclipper-1.3.0.post5-cp310-cp310-manylinux_2_12_x86_64.manylinux2010_x86_64.whl (908 kB)\n",
            "\u001b[2K     \u001b[90m━━━━━━━━━━━━━━━━━━━━━━━━━━━━━━━━━━━━━━━━\u001b[0m \u001b[32m908.3/908.3 kB\u001b[0m \u001b[31m66.1 MB/s\u001b[0m eta \u001b[36m0:00:00\u001b[0m\n",
            "\u001b[?25hRequirement already satisfied: shapely in /usr/local/lib/python3.10/dist-packages (from keras-ocr) (2.0.4)\n",
            "Requirement already satisfied: tqdm in /usr/local/lib/python3.10/dist-packages (from keras-ocr) (4.66.4)\n",
            "Collecting validators (from keras-ocr)\n",
            "  Downloading validators-0.28.3-py3-none-any.whl (40 kB)\n",
            "\u001b[2K     \u001b[90m━━━━━━━━━━━━━━━━━━━━━━━━━━━━━━━━━━━━━━━━\u001b[0m \u001b[32m40.0/40.0 kB\u001b[0m \u001b[31m6.0 MB/s\u001b[0m eta \u001b[36m0:00:00\u001b[0m\n",
            "\u001b[?25hCollecting keras-applications<=1.0.8,>=1.0.7 (from efficientnet==1.0.0->keras-ocr)\n",
            "  Downloading Keras_Applications-1.0.8-py3-none-any.whl (50 kB)\n",
            "\u001b[2K     \u001b[90m━━━━━━━━━━━━━━━━━━━━━━━━━━━━━━━━━━━━━━━━\u001b[0m \u001b[32m50.7/50.7 kB\u001b[0m \u001b[31m8.2 MB/s\u001b[0m eta \u001b[36m0:00:00\u001b[0m\n",
            "\u001b[?25hRequirement already satisfied: scikit-image in /usr/local/lib/python3.10/dist-packages (from efficientnet==1.0.0->keras-ocr) (0.19.3)\n",
            "Requirement already satisfied: six in /usr/local/lib/python3.10/dist-packages (from imgaug->keras-ocr) (1.16.0)\n",
            "Requirement already satisfied: numpy>=1.15 in /usr/local/lib/python3.10/dist-packages (from imgaug->keras-ocr) (1.25.2)\n",
            "Requirement already satisfied: scipy in /usr/local/lib/python3.10/dist-packages (from imgaug->keras-ocr) (1.11.4)\n",
            "Requirement already satisfied: Pillow in /usr/local/lib/python3.10/dist-packages (from imgaug->keras-ocr) (9.4.0)\n",
            "Requirement already satisfied: matplotlib in /usr/local/lib/python3.10/dist-packages (from imgaug->keras-ocr) (3.7.1)\n",
            "Requirement already satisfied: opencv-python in /usr/local/lib/python3.10/dist-packages (from imgaug->keras-ocr) (4.8.0.76)\n",
            "Requirement already satisfied: imageio in /usr/local/lib/python3.10/dist-packages (from imgaug->keras-ocr) (2.31.6)\n",
            "Requirement already satisfied: h5py in /usr/local/lib/python3.10/dist-packages (from keras-applications<=1.0.8,>=1.0.7->efficientnet==1.0.0->keras-ocr) (3.9.0)\n",
            "Requirement already satisfied: networkx>=2.2 in /usr/local/lib/python3.10/dist-packages (from scikit-image->efficientnet==1.0.0->keras-ocr) (3.3)\n",
            "Requirement already satisfied: tifffile>=2019.7.26 in /usr/local/lib/python3.10/dist-packages (from scikit-image->efficientnet==1.0.0->keras-ocr) (2024.5.10)\n",
            "Requirement already satisfied: PyWavelets>=1.1.1 in /usr/local/lib/python3.10/dist-packages (from scikit-image->efficientnet==1.0.0->keras-ocr) (1.6.0)\n",
            "Requirement already satisfied: packaging>=20.0 in /usr/local/lib/python3.10/dist-packages (from scikit-image->efficientnet==1.0.0->keras-ocr) (24.0)\n",
            "Requirement already satisfied: contourpy>=1.0.1 in /usr/local/lib/python3.10/dist-packages (from matplotlib->imgaug->keras-ocr) (1.2.1)\n",
            "Requirement already satisfied: cycler>=0.10 in /usr/local/lib/python3.10/dist-packages (from matplotlib->imgaug->keras-ocr) (0.12.1)\n",
            "Requirement already satisfied: kiwisolver>=1.0.1 in /usr/local/lib/python3.10/dist-packages (from matplotlib->imgaug->keras-ocr) (1.4.5)\n",
            "Requirement already satisfied: pyparsing>=2.3.1 in /usr/local/lib/python3.10/dist-packages (from matplotlib->imgaug->keras-ocr) (3.1.2)\n",
            "Requirement already satisfied: python-dateutil>=2.7 in /usr/local/lib/python3.10/dist-packages (from matplotlib->imgaug->keras-ocr) (2.8.2)\n",
            "Building wheels for collected packages: keras-ocr\n",
            "  Building wheel for keras-ocr (pyproject.toml) ... \u001b[?25l\u001b[?25hdone\n",
            "  Created wheel for keras-ocr: filename=keras_ocr-0.0.0-py3-none-any.whl size=42309 sha256=58f8de206f8c98fe2cba2027710331aace2fabad6f592b9373c9a0506a74161e\n",
            "  Stored in directory: /tmp/pip-ephem-wheel-cache-id3qmc_s/wheels/ee/e8/3a/3915fd372ea68434aa50a06b4b9633c1446cc8b83b5d6975db\n",
            "Successfully built keras-ocr\n",
            "Installing collected packages: pyclipper, essential_generators, validators, keras-applications, efficientnet, keras-ocr\n",
            "Successfully installed efficientnet-1.0.0 essential_generators-1.0 keras-applications-1.0.8 keras-ocr-0.0.0 pyclipper-1.3.0.post5 validators-0.28.3\n",
            "Requirement already satisfied: opencv-python in /usr/local/lib/python3.10/dist-packages (4.8.0.76)\n",
            "Collecting opencv-python\n",
            "  Downloading opencv_python-4.9.0.80-cp37-abi3-manylinux_2_17_x86_64.manylinux2014_x86_64.whl (62.2 MB)\n",
            "\u001b[2K     \u001b[90m━━━━━━━━━━━━━━━━━━━━━━━━━━━━━━━━━━━━━━━━\u001b[0m \u001b[32m62.2/62.2 MB\u001b[0m \u001b[31m27.6 MB/s\u001b[0m eta \u001b[36m0:00:00\u001b[0m\n",
            "\u001b[?25hRequirement already satisfied: numpy>=1.21.2 in /usr/local/lib/python3.10/dist-packages (from opencv-python) (1.25.2)\n",
            "Installing collected packages: opencv-python\n",
            "  Attempting uninstall: opencv-python\n",
            "    Found existing installation: opencv-python 4.8.0.76\n",
            "    Uninstalling opencv-python-4.8.0.76:\n",
            "      Successfully uninstalled opencv-python-4.8.0.76\n",
            "Successfully installed opencv-python-4.9.0.80\n"
          ]
        }
      ],
      "source": [
        "# Szükséges csomagok telepítése\n",
        "!pip install -U git+https://github.com/faustomorales/keras-ocr.git#egg=keras-ocr\n",
        "!pip install -U opencv-python"
      ]
    },
    {
      "cell_type": "code",
      "execution_count": 3,
      "metadata": {
        "colab": {
          "base_uri": "https://localhost:8080/"
        },
        "id": "z4ojj6XUsGxY",
        "outputId": "00e5dc1f-42b5-4395-f773-5d5b41499a98"
      },
      "outputs": [
        {
          "name": "stdout",
          "output_type": "stream",
          "text": [
            "2.15.0\n"
          ]
        }
      ],
      "source": [
        "# Szükséges importok\n",
        "import matplotlib.pyplot as plt\n",
        "import keras_ocr\n",
        "import numpy as np\n",
        "import imgaug\n",
        "import os, io\n",
        "import requests\n",
        "import zipfile\n",
        "from sklearn.model_selection import train_test_split\n",
        "import tensorflow as tf\n",
        "\n",
        "# Ahhoz hogy a tensorflow-al tovább tudjuk finomhangolni a modellt, be kell állítani az alábbi beállításokat, mivel A modell az\n",
        "# első rétegben None értéket is fogad.\n",
        "tf.compat.v1.disable_eager_execution()\n",
        "tf.compat.v1.experimental.output_all_intermediates(True)\n",
        "print(tf.__version__)\n",
        "tf.random.set_seed(42)\n",
        "np.random.seed(42)"
      ]
    },
    {
      "cell_type": "code",
      "execution_count": 5,
      "metadata": {
        "colab": {
          "base_uri": "https://localhost:8080/"
        },
        "id": "uYTNNEhYsZNt",
        "outputId": "4c98b500-897d-458f-b297-0566e6f73e93"
      },
      "outputs": [
        {
          "data": {
            "text/plain": [
              "96456"
            ]
          },
          "execution_count": 5,
          "metadata": {},
          "output_type": "execute_result"
        }
      ],
      "source": [
        "# Az IAM words Adatbázist az alábbi URL-ről töltöttem le:\n",
        "# https://fki.tic.heia-fr.ch/databases/iam-handwriting-database\n",
        "# Sajnos belépés kell hozzá, így nem lehet kódban lehívni.\n",
        "\n",
        "# Az adatbázis feldolgozása:\n",
        "filtered_words = []\n",
        "\n",
        "with open('/content/data/words.txt', 'r') as file:\n",
        "    filtered_words = [line for line in file if not line.startswith('#') and 'err' not in line.split(\" \")]\n",
        "\n",
        "num_filtered_words = len(filtered_words)\n",
        "num_filtered_words"
      ]
    },
    {
      "cell_type": "code",
      "execution_count": 6,
      "metadata": {
        "colab": {
          "base_uri": "https://localhost:8080/"
        },
        "id": "6wRyft71sdtR",
        "outputId": "57ff0335-6cc4-48a1-fa74-bb1ddb40489e"
      },
      "outputs": [
        {
          "data": {
            "text/plain": [
              "(86810, 9646)"
            ]
          },
          "execution_count": 6,
          "metadata": {},
          "output_type": "execute_result"
        }
      ],
      "source": [
        "# Train/Test adatok szétbontása\n",
        "\n",
        "np.random.shuffle(filtered_words)\n",
        "train_samples, validation_samples = train_test_split(filtered_words, train_size=0.9, test_size=0.1)\n",
        "len(train_samples), len(validation_samples)\n"
      ]
    },
    {
      "cell_type": "code",
      "execution_count": 7,
      "metadata": {
        "id": "ulIa8h1fsgoG"
      },
      "outputs": [],
      "source": [
        "# Az adatbázis struktúrájából adódóan, egymás mellé kell helyezni a words.txt-ben lévő szórészleteket és\n",
        "# a képeket. A words.txt-ben megtalálhatóak a képfájlok elérési adatai, azonban ezeket fel kell dolgozni.\n",
        "\n",
        "def parse_path(file_line):\n",
        "    splitted_line = file_line.strip().split(\" \")\n",
        "\n",
        "    name = splitted_line[0]\n",
        "    first = name.split(\"-\")[0]\n",
        "    second = name.split('-')[1]\n",
        "\n",
        "    img_path = \"/content/data/words/{}/{}-{}/{}.png\".format(first, first, second, name)\n",
        "\n",
        "    label = splitted_line[8].strip()\n",
        "    if os.path.getsize(img_path) != 0 and label is not None:\n",
        "        return (img_path, None, label.lower())"
      ]
    },
    {
      "cell_type": "code",
      "execution_count": 8,
      "metadata": {
        "colab": {
          "base_uri": "https://localhost:8080/"
        },
        "id": "rqjS7FQxsjt5",
        "outputId": "8ad8c36f-629f-4984-a8c2-545a7eeb14b7"
      },
      "outputs": [
        {
          "data": {
            "text/plain": [
              "(86808, 9646)"
            ]
          },
          "execution_count": 8,
          "metadata": {},
          "output_type": "execute_result"
        }
      ],
      "source": [
        "# Képek és label -ek meghatározása:\n",
        "\n",
        "train_labels = []\n",
        "for file_line in train_samples:\n",
        "    parsed = parse_path(file_line)\n",
        "    if parsed is not None:\n",
        "        train_labels.append(parsed)\n",
        "\n",
        "val_labels = []\n",
        "for file_line in validation_samples:\n",
        "    parsed = parse_path(file_line)\n",
        "    if parsed is not None:\n",
        "        val_labels.append(parsed)\n",
        "\n",
        "len(train_labels), len(val_labels)"
      ]
    },
    {
      "cell_type": "code",
      "execution_count": 9,
      "metadata": {
        "colab": {
          "base_uri": "https://localhost:8080/"
        },
        "id": "qi-xJD0SsjnO",
        "outputId": "4c0dbf1f-b9d6-4bce-e5d3-f79d6537b089"
      },
      "outputs": [
        {
          "name": "stderr",
          "output_type": "stream",
          "text": [
            "WARNING:tensorflow:From /usr/local/lib/python3.10/dist-packages/keras/src/layers/normalization/batch_normalization.py:883: _colocate_with (from tensorflow.python.framework.ops) is deprecated and will be removed in a future version.\n",
            "Instructions for updating:\n",
            "Colocations handled automatically by placer.\n",
            "WARNING:tensorflow:Layer lstm_10 will not use cuDNN kernels since it doesn't meet the criteria. It will use a generic GPU kernel as fallback when running on GPU.\n",
            "WARNING:tensorflow:Layer lstm_10_back will not use cuDNN kernels since it doesn't meet the criteria. It will use a generic GPU kernel as fallback when running on GPU.\n",
            "WARNING:tensorflow:Layer lstm_11 will not use cuDNN kernels since it doesn't meet the criteria. It will use a generic GPU kernel as fallback when running on GPU.\n",
            "WARNING:tensorflow:Layer lstm_11_back will not use cuDNN kernels since it doesn't meet the criteria. It will use a generic GPU kernel as fallback when running on GPU.\n"
          ]
        },
        {
          "name": "stdout",
          "output_type": "stream",
          "text": [
            "Looking for /root/.keras-ocr/crnn_kurapan.h5\n",
            "Downloading /root/.keras-ocr/crnn_kurapan.h5\n"
          ]
        }
      ],
      "source": [
        "# A keras-ocr Recognizer-jének compileolása:\n",
        "recognizer = keras_ocr.recognition.Recognizer()\n",
        "recognizer.compile()"
      ]
    },
    {
      "cell_type": "code",
      "execution_count": 10,
      "metadata": {
        "id": "ZFJC7GczsphD"
      },
      "outputs": [],
      "source": [
        "# Adatgenerátorok definiálása\n",
        "\n",
        "batch_size = 8\n",
        "augmenter = imgaug.augmenters.Sequential([\n",
        "    imgaug.augmenters.GammaContrast(gamma=(0.25, 3.0)),\n",
        "])\n",
        "\n",
        "(training_image_gen, training_steps), (validation_image_gen, validation_steps) = [\n",
        "    (\n",
        "        keras_ocr.datasets.get_recognizer_image_generator(\n",
        "            labels=labels,\n",
        "            height=recognizer.model.input_shape[1],\n",
        "            width=recognizer.model.input_shape[2],\n",
        "            alphabet=recognizer.alphabet,\n",
        "            augmenter=augmenter\n",
        "        ),\n",
        "        len(labels) // batch_size\n",
        "    ) for labels, augmenter in [(train_labels, augmenter), (val_labels, None)]\n",
        "]\n",
        "training_gen, validation_gen = [\n",
        "    recognizer.get_batch_generator(\n",
        "        image_generator=image_generator,\n",
        "        batch_size=batch_size\n",
        "    )\n",
        "    for image_generator in [training_image_gen, validation_image_gen]\n",
        "]"
      ]
    },
    {
      "cell_type": "code",
      "execution_count": 11,
      "metadata": {
        "colab": {
          "base_uri": "https://localhost:8080/",
          "height": 176
        },
        "id": "BsYYWlqsswnE",
        "outputId": "46536f96-ba13-4073-de72-f75b80b7604d"
      },
      "outputs": [
        {
          "name": "stdout",
          "output_type": "stream",
          "text": [
            "12396 / 86808 instances have illegal characters.\n"
          ]
        },
        {
          "data": {
            "image/png": "[encoded data removed]",
            "text/plain": [
              "<Figure size 640x480 with 1 Axes>"
            ]
          },
          "metadata": {},
          "output_type": "display_data"
        }
      ],
      "source": [
        "# Példa Generálás ( Az adatgenerátorból)\n",
        "image, text = next(training_image_gen)\n",
        "plt.imshow(image)\n",
        "plt.title(text)\n",
        "plt.show()\n"
      ]
    },
    {
      "cell_type": "code",
      "execution_count": 12,
      "metadata": {
        "colab": {
          "base_uri": "https://localhost:8080/"
        },
        "id": "1AXzJbkSs2Qx",
        "outputId": "2844ba3e-22c5-4de3-ebbc-a7539c3679e9"
      },
      "outputs": [
        {
          "name": "stdout",
          "output_type": "stream",
          "text": [
            "Epoch 1/1000\n"
          ]
        },
        {
          "name": "stderr",
          "output_type": "stream",
          "text": [
            "<ipython-input-12-76005257f5cc>:7: UserWarning: `model.fit_generator` is deprecated and will be removed in a future version. Please use `Model.fit`, which supports generators.\n",
            "  history = recognizer.training_model.fit_generator(\n"
          ]
        },
        {
          "name": "stdout",
          "output_type": "stream",
          "text": [
            "10851/10851 [==============================] - ETA: 0s - batch: 5425.0000 - size: 8.0000 - loss: 3.88261322 / 9646 instances have illegal characters.\n"
          ]
        },
        {
          "name": "stderr",
          "output_type": "stream",
          "text": [
            "/usr/local/lib/python3.10/dist-packages/keras/src/engine/training_v1.py:2335: UserWarning: `Model.state_updates` will be removed in a future version. This property should not be used in TensorFlow 2.0, as `updates` are applied automatically.\n",
            "  updates = self.state_updates\n"
          ]
        },
        {
          "name": "stdout",
          "output_type": "stream",
          "text": [
            "\b\b\b\b\b\b\b\b\b\b\b\b\b\b\b\b\b\b\b\b\b\b\b\b\b\b\b\b\b\b\b\b\b\b\b\b\b\b\b\b\b\b\b\b\b\b\b\b\b\b\b\b\b\b\b\b\b\b\b\b\b\b\b\b\b\b\b\b\b\b\b\b\b\b\b\b\b\b\b\b\b\b\b\b\b\b\b\b\b\b\b\b\b\b\b\b\b\b\b\b\b\b\b\r10851/10851 [==============================] - 2026s 186ms/step - batch: 5425.0000 - size: 8.0000 - loss: 3.8826 - val_loss: 3.0071\n",
            "Epoch 2/1000\n",
            "10851/10851 [==============================] - 2020s 186ms/step - batch: 5425.0000 - size: 8.0000 - loss: 2.6645 - val_loss: 2.5515\n",
            "Epoch 3/1000\n",
            "10851/10851 [==============================] - 2020s 186ms/step - batch: 5425.0000 - size: 8.0000 - loss: 2.4570 - val_loss: 2.3854\n",
            "Epoch 4/1000\n",
            "10851/10851 [==============================] - 2016s 186ms/step - batch: 5425.0000 - size: 8.0000 - loss: 2.3482 - val_loss: 2.5031\n",
            "Epoch 5/1000\n",
            "10851/10851 [==============================] - 2024s 187ms/step - batch: 5425.0000 - size: 8.0000 - loss: 2.3264 - val_loss: 2.4182\n",
            "Epoch 6/1000\n",
            "10851/10851 [==============================] - 2005s 185ms/step - batch: 5425.0000 - size: 8.0000 - loss: 2.3463 - val_loss: 2.3770\n",
            "Epoch 7/1000\n",
            "10851/10851 [==============================] - 2005s 185ms/step - batch: 5425.0000 - size: 8.0000 - loss: 2.4027 - val_loss: 2.5053\n",
            "Epoch 8/1000\n",
            "10851/10851 [==============================] - 2004s 185ms/step - batch: 5425.0000 - size: 8.0000 - loss: 2.5486 - val_loss: 2.7725\n",
            "Epoch 9/1000\n",
            "10851/10851 [==============================] - 2005s 185ms/step - batch: 5425.0000 - size: 8.0000 - loss: 2.6256 - val_loss: 2.6046\n"
          ]
        }
      ],
      "source": [
        "# Finomhangolás\n",
        "# A keras-ocr magátol RMS-Prop -ot használ, CTC loss-al. azaz magának beállítja a learning rate-t, nem kell külön definiálni.\n",
        "# A patient-et 3-ra állítottam, Hardware igények miatt.\n",
        "callbacks = [\n",
        "    tf.keras.callbacks.EarlyStopping(monitor='val_loss', min_delta=0, patience=3, restore_best_weights=True),\n",
        "]\n",
        "history = recognizer.training_model.fit_generator(\n",
        "    generator=training_gen,\n",
        "    steps_per_epoch=training_steps,\n",
        "    validation_steps=validation_steps,\n",
        "    validation_data=validation_gen,\n",
        "    callbacks=callbacks,\n",
        "    epochs=1000\n",
        ")"
      ]
    },
    {
      "cell_type": "code",
      "execution_count": 13,
      "metadata": {
        "colab": {
          "base_uri": "https://localhost:8080/",
          "height": 473
        },
        "id": "PnfO6YoJp9B8",
        "outputId": "c5b1209f-8bfc-40af-c956-ed0475cbe775"
      },
      "outputs": [
        {
          "data": {
            "image/png": "[encoded data removed]",
            "text/plain": [
              "<Figure size 640x480 with 1 Axes>"
            ]
          },
          "metadata": {},
          "output_type": "display_data"
        }
      ],
      "source": [
        "plt.figure()\n",
        "plt.plot(history.history[\"loss\"], label=\"train_loss\")\n",
        "plt.plot(history.history[\"val_loss\"], label=\"val_loss\")\n",
        "plt.title(\"Training és Validation Loss a betanítás során\")\n",
        "plt.xlabel(\"Epochok száma\")\n",
        "plt.ylabel(\"Loss\")\n",
        "plt.legend(loc=\"lower left\")\n",
        "plt.show()"
      ]
    },
    {
      "cell_type": "code",
      "execution_count": null,
      "metadata": {
        "id": "W7aSfBfQky_l"
      },
      "outputs": [],
      "source": [
        "# A google colab-ból kimentem a súlyokat.\n",
        "recognizer.training_model.save('/content/drive/My Drive/my_model.h5')"
      ]
    }
  ],
  "metadata": {
    "accelerator": "GPU",
    "colab": {
      "gpuType": "T4",
      "machine_shape": "hm",
      "provenance": []
    },
    "kernelspec": {
      "display_name": "Python 3",
      "name": "python3"
    },
    "language_info": {
      "name": "python"
    }
  },
  "nbformat": 4,
  "nbformat_minor": 0
}
